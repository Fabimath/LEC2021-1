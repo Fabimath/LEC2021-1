{
 "cells": [
  {
   "cell_type": "code",
   "execution_count": 4,
   "metadata": {},
   "outputs": [],
   "source": [
    "set.seed(0)\n",
    "X1 = rnorm(100,5,2)\n",
    "X2 = rnorm(100,3,2)\n",
    "X3 = rexp(100,10)\n",
    "Y  = 2*rep(1,100) + 4*X1 + 3*X2 + rnorm(100,0,2)\n",
    "tiempo = seq(1,100)\n",
    "T = 5*exp(tiempo*(-0.1)+ rnorm(100,0,0.3)) \n",
    "# T = Aexp(Bt)\n",
    "# Log(T) = Log(A) + Bt\n",
    "data = data.frame(X1,X2,X3,Y,tiempo,T)\n",
    "write.csv(data,'base_control_4.csv',row.names=FALSE)"
   ]
  },
  {
   "cell_type": "code",
   "execution_count": 5,
   "metadata": {},
   "outputs": [
    {
     "name": "stderr",
     "output_type": "stream",
     "text": [
      "The following objects are masked _by_ .GlobalEnv:\n",
      "\n",
      "    T, tiempo, X1, X2, X3, Y\n",
      "\n",
      "\n",
      "The following objects are masked from data (pos = 3):\n",
      "\n",
      "    T, tiempo, X1, X2, X3, Y\n",
      "\n",
      "\n",
      "The following object is masked from package:base:\n",
      "\n",
      "    T\n",
      "\n",
      "\n"
     ]
    }
   ],
   "source": [
    "data=read.csv('base_control_4.csv')\n",
    "attach(data)"
   ]
  },
  {
   "cell_type": "markdown",
   "metadata": {},
   "source": [
    "Realice una regresión lineal simple con la estructura $$Y_i = \\beta_0 + \\beta_1 X1_i + \\epsilon_i$$ Obtenga el limite inferior de un intervalo de confianza para $$\\hat{\\beta_0}$$ con una confianza de 0.95."
   ]
  },
  {
   "cell_type": "code",
   "execution_count": 6,
   "metadata": {},
   "outputs": [
    {
     "data": {
      "text/html": [
       "<table>\n",
       "<caption>A matrix: 2 × 2 of type dbl</caption>\n",
       "<thead>\n",
       "\t<tr><th></th><th scope=col>2.5 %</th><th scope=col>97.5 %</th></tr>\n",
       "</thead>\n",
       "<tbody>\n",
       "\t<tr><th scope=row>(Intercept)</th><td>4.944154</td><td>12.532447</td></tr>\n",
       "\t<tr><th scope=row>X1</th><td>3.713205</td><td> 5.133613</td></tr>\n",
       "</tbody>\n",
       "</table>\n"
      ],
      "text/latex": [
       "A matrix: 2 × 2 of type dbl\n",
       "\\begin{tabular}{r|ll}\n",
       "  & 2.5 \\% & 97.5 \\%\\\\\n",
       "\\hline\n",
       "\t(Intercept) & 4.944154 & 12.532447\\\\\n",
       "\tX1 & 3.713205 &  5.133613\\\\\n",
       "\\end{tabular}\n"
      ],
      "text/markdown": [
       "\n",
       "A matrix: 2 × 2 of type dbl\n",
       "\n",
       "| <!--/--> | 2.5 % | 97.5 % |\n",
       "|---|---|---|\n",
       "| (Intercept) | 4.944154 | 12.532447 |\n",
       "| X1 | 3.713205 |  5.133613 |\n",
       "\n"
      ],
      "text/plain": [
       "            2.5 %    97.5 %   \n",
       "(Intercept) 4.944154 12.532447\n",
       "X1          3.713205  5.133613"
      ]
     },
     "metadata": {},
     "output_type": "display_data"
    }
   ],
   "source": [
    "reg1=lm(Y~X1)\n",
    "confint.lm(reg1)\n",
    "# 4.944154"
   ]
  },
  {
   "cell_type": "markdown",
   "metadata": {},
   "source": [
    "Considere el modelo de regresión multiple $$Y_i = \\beta_0 + \\beta_1 X1_i + \\beta_2 X2_i + \\epsilon_i$$ Suponga que se desea estimar cuanto vale Y si X1 = 2 y X2 = 3. Obtenga la estimación de Y"
   ]
  },
  {
   "cell_type": "code",
   "execution_count": 7,
   "metadata": {},
   "outputs": [
    {
     "name": "stdout",
     "output_type": "stream",
     "text": [
      "(Intercept) \n",
      "   19.18352 \n"
     ]
    }
   ],
   "source": [
    "reg2 = lm(Y~X1+X2)\n",
    "estimacion_Y = reg2$coef[1] + reg2$coef[2]*2 + reg2$coef[3]*3\n",
    "print(estimacion_Y)"
   ]
  },
  {
   "cell_type": "markdown",
   "metadata": {},
   "source": [
    "Considere el siguiente modelo de regresión multiple\n",
    "$$\n",
    "Y_i = \\beta_0 + \\beta_1 X1_i + \\beta_2 X2_i + \\beta_3 X3_i\n",
    "$$\n",
    "Realice el test de hipotesis $$H_0: \\beta_3 = 0$$ v/s $$H_1:\\beta_3 \\neq 0$$ y entregue como resultado el valor p (p-valor) asocioado al test."
   ]
  },
  {
   "cell_type": "code",
   "execution_count": 8,
   "metadata": {},
   "outputs": [
    {
     "data": {
      "text/plain": [
       "\n",
       "Call:\n",
       "lm(formula = Y ~ X1 + X2 + X3)\n",
       "\n",
       "Residuals:\n",
       "    Min      1Q  Median      3Q     Max \n",
       "-4.9371 -1.1715 -0.1637  1.3314  3.6559 \n",
       "\n",
       "Coefficients:\n",
       "            Estimate Std. Error t value Pr(>|t|)    \n",
       "(Intercept)   1.7601     0.6544   2.690  0.00843 ** \n",
       "X1            3.9916     0.1105  36.119  < 2e-16 ***\n",
       "X2            3.1115     0.1010  30.796  < 2e-16 ***\n",
       "X3            0.9946     1.7512   0.568  0.57140    \n",
       "---\n",
       "Signif. codes:  0 '***' 0.001 '**' 0.01 '*' 0.05 '.' 0.1 ' ' 1\n",
       "\n",
       "Residual standard error: 1.925 on 96 degrees of freedom\n",
       "Multiple R-squared:  0.9641,\tAdjusted R-squared:  0.963 \n",
       "F-statistic: 858.9 on 3 and 96 DF,  p-value: < 2.2e-16\n"
      ]
     },
     "metadata": {},
     "output_type": "display_data"
    }
   ],
   "source": [
    "reg3 = lm(Y~X1+X2+X3)\n",
    "summary(reg3)\n",
    "# 0.57140"
   ]
  },
  {
   "cell_type": "markdown",
   "metadata": {},
   "source": [
    "En la base de datos, el par (tiempo,T), corresponde a la temperatura de un cuerpo en el tiempo indicado. Un experto dice que esto se modela mediante la ley:\n",
    "$$\n",
    "T = A*exp(B*tiempo)\n",
    "$$\n",
    "Realice una regresión lineal adecuadamente para predecir cuanto debería valer la temperatura si estamos en el tiempo 13.5"
   ]
  },
  {
   "cell_type": "code",
   "execution_count": 9,
   "metadata": {},
   "outputs": [
    {
     "data": {
      "text/html": [
       "<strong>(Intercept):</strong> 1.29733017399686"
      ],
      "text/latex": [
       "\\textbf{(Intercept):} 1.29733017399686"
      ],
      "text/markdown": [
       "**(Intercept):** 1.29733017399686"
      ],
      "text/plain": [
       "(Intercept) \n",
       "    1.29733 "
      ]
     },
     "metadata": {},
     "output_type": "display_data"
    }
   ],
   "source": [
    "# T = Aexp(Bt)\n",
    "# Log(T) = Log(A) + Bt\n",
    "log_T = log(T)\n",
    "reg4 = lm(log_T ~ tiempo)\n",
    "prediccion = exp(reg4$coef[1])*exp(reg4$coef[2]*13.5)\n",
    "prediccion"
   ]
  },
  {
   "cell_type": "code",
   "execution_count": 130,
   "metadata": {},
   "outputs": [
    {
     "data": {
      "image/png": "[encoded data removed]",
      "text/plain": [
       "plot without title"
      ]
     },
     "metadata": {
      "image/png": {
       "height": 420,
       "width": 420
      }
     },
     "output_type": "display_data"
    }
   ],
   "source": [
    "plot(tiempo,log_T)"
   ]
  }
 ],
 "metadata": {
  "kernelspec": {
   "display_name": "R",
   "language": "R",
   "name": "ir"
  },
  "language_info": {
   "codemirror_mode": "r",
   "file_extension": ".r",
   "mimetype": "text/x-r-source",
   "name": "R",
   "pygments_lexer": "r",
   "version": "3.6.1"
  }
 },
 "nbformat": 4,
 "nbformat_minor": 4
}
