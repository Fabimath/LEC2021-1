{
 "cells": [
  {
   "cell_type": "markdown",
   "metadata": {},
   "source": [
    "Sea N = 0\n",
    "\n",
    "Genere 100 datos desde una distribución normal de media 3 y varianza 2 desde una semilla igual a N. Sea M igual a la parte entera del promedio de los 100 los datos generados.\n",
    "\n",
    "Genere 200 datos desde una distribución poisson de parametro igual a M desde una semilla igual a N.\n",
    "\n",
    "Obtenga la desviación estandar de los 200 datos. Ingrese si respuesta con 2 decimales truncados."
   ]
  },
  {
   "cell_type": "code",
   "execution_count": 23,
   "metadata": {},
   "outputs": [
    {
     "data": {
      "text/html": [
       "3.03205802916747"
      ],
      "text/latex": [
       "3.03205802916747"
      ],
      "text/markdown": [
       "3.03205802916747"
      ],
      "text/plain": [
       "[1] 3.032058"
      ]
     },
     "metadata": {},
     "output_type": "display_data"
    }
   ],
   "source": [
    "N=0\n",
    "set.seed(N)\n",
    "mean(rnorm(100,3,sqrt(2)))"
   ]
  },
  {
   "cell_type": "code",
   "execution_count": 24,
   "metadata": {},
   "outputs": [
    {
     "data": {
      "text/html": [
       "1.556111310948"
      ],
      "text/latex": [
       "1.556111310948"
      ],
      "text/markdown": [
       "1.556111310948"
      ],
      "text/plain": [
       "[1] 1.556111"
      ]
     },
     "metadata": {},
     "output_type": "display_data"
    }
   ],
   "source": [
    "M=3\n",
    "set.seed(N)\n",
    "sd(rpois(200,M))"
   ]
  },
  {
   "cell_type": "code",
   "execution_count": 22,
   "metadata": {},
   "outputs": [
    {
     "data": {
      "text/html": [
       "1.31382291548988"
      ],
      "text/latex": [
       "1.31382291548988"
      ],
      "text/markdown": [
       "1.31382291548988"
      ],
      "text/plain": [
       "[1] 1.313823"
      ]
     },
     "metadata": {},
     "output_type": "display_data"
    }
   ],
   "source": [
    "N = 0\n",
    "set.seed(N)\n",
    "M = trunc(mean(rnorm(100,2,2)))\n",
    "set.seed(N)\n",
    "sd(rpois(200,2))\n",
    "# resp 1.31"
   ]
  },
  {
   "cell_type": "markdown",
   "metadata": {},
   "source": [
    "Si  el  90%  de  todos  los  solicitantes  de  un  crédito  hipotecario  no  llenan  correctamente  el formulario de solicitud, ¿cuál es la probabilidad de que entre 15 solicitantes seleccionados al azar:"
   ]
  },
  {
   "cell_type": "markdown",
   "metadata": {},
   "source": [
    " Por lo menos 12 no llenen correctamente el formulario"
   ]
  },
  {
   "cell_type": "code",
   "execution_count": 16,
   "metadata": {},
   "outputs": [
    {
     "data": {
      "text/html": [
       "0.944444369992464"
      ],
      "text/latex": [
       "0.944444369992464"
      ],
      "text/markdown": [
       "0.944444369992464"
      ],
      "text/plain": [
       "[1] 0.9444444"
      ]
     },
     "metadata": {},
     "output_type": "display_data"
    }
   ],
   "source": [
    "1-pbinom(11,15,0.9)"
   ]
  },
  {
   "cell_type": "markdown",
   "metadata": {},
   "source": [
    "Entre 10 y 13 (ambos valores inclusive) no llenen correctamente el formulario?"
   ]
  },
  {
   "cell_type": "code",
   "execution_count": 17,
   "metadata": {},
   "outputs": [
    {
     "data": {
      "text/html": [
       "0.448707310995888"
      ],
      "text/latex": [
       "0.448707310995888"
      ],
      "text/markdown": [
       "0.448707310995888"
      ],
      "text/plain": [
       "[1] 0.4487073"
      ]
     },
     "metadata": {},
     "output_type": "display_data"
    }
   ],
   "source": [
    "pbinom(13,15,0.9) - pbinom(9,15,0.9)"
   ]
  },
  {
   "cell_type": "markdown",
   "metadata": {},
   "source": [
    "Considere una sucesión de numeros desde el 1 hasta el 200 de la siguiente forma:\n",
    "\n",
    "1,2,3,4,5,6,...,199,200.\n",
    "\n",
    "La puede generar con la función seq(1:200)\n",
    "\n",
    "obtenga un muestra aleatoria de tamaño 50 desde este conjunto de datos desde una semilla igual a 0\n",
    "\n",
    "Obtenga el percentil 45 de la muestra."
   ]
  },
  {
   "cell_type": "code",
   "execution_count": 18,
   "metadata": {},
   "outputs": [
    {
     "data": {
      "text/html": [
       "<strong>45%:</strong> 87.1"
      ],
      "text/latex": [
       "\\textbf{45\\textbackslash{}\\%:} 87.1"
      ],
      "text/markdown": [
       "**45%:** 87.1"
      ],
      "text/plain": [
       " 45% \n",
       "87.1 "
      ]
     },
     "metadata": {},
     "output_type": "display_data"
    }
   ],
   "source": [
    "set.seed(0)\n",
    "quantile(sample(seq(1:200),50),0.45)"
   ]
  }
 ],
 "metadata": {
  "kernelspec": {
   "display_name": "R",
   "language": "R",
   "name": "ir"
  },
  "language_info": {
   "codemirror_mode": "r",
   "file_extension": ".r",
   "mimetype": "text/x-r-source",
   "name": "R",
   "pygments_lexer": "r",
   "version": "3.6.1"
  }
 },
 "nbformat": 4,
 "nbformat_minor": 4
}
