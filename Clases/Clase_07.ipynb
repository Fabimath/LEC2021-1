{
 "cells": [
  {
   "cell_type": "markdown",
   "metadata": {},
   "source": [
    "<img src=\"https://www.promocionachile.cl/img/logos/uai.JPG\" width=\"400\" alt=\"utfsm-logo\" align=\"left\"/>"
   ]
  },
  {
   "cell_type": "markdown",
   "metadata": {},
   "source": [
    "# LEC de Probabilidad y Estadística, Viña del mar.\n",
    "## Clase 07\n",
    "### Profesor: Fabián Ramírez\n",
    "\n",
    "# Objetivos:\n",
    "* Intervalos de confianza para la proporción.\n",
    "* Pruebas de hipótesis."
   ]
  },
  {
   "cell_type": "markdown",
   "metadata": {},
   "source": [
    "### Resumen\n",
    "En la clase anterior vimos la creación de intervalos de confianza para los siguientes casos:"
   ]
  },
  {
   "cell_type": "markdown",
   "metadata": {},
   "source": [
    "* Para la media poblacional con varianza poblacional conocida.\n",
    "* Para la media poblacional con varianza poblacional desconocida.\n",
    "* Para la varianza con media poblacional desconocida."
   ]
  },
  {
   "cell_type": "markdown",
   "metadata": {},
   "source": [
    "Para el primer caso puedes realizar el intervalo de confianza con la función `z.test`"
   ]
  },
  {
   "cell_type": "code",
   "execution_count": 4,
   "metadata": {},
   "outputs": [],
   "source": [
    "x1 = rnorm(30)\n",
    "n  = length(x1)"
   ]
  },
  {
   "cell_type": "code",
   "execution_count": 7,
   "metadata": {},
   "outputs": [
    {
     "name": "stdout",
     "output_type": "stream",
     "text": [
      "package 'BSDA' successfully unpacked and MD5 sums checked\n",
      "\n",
      "The downloaded binary packages are in\n",
      "\tC:\\Users\\chime\\AppData\\Local\\Temp\\RtmpMNv01B\\downloaded_packages\n"
     ]
    },
    {
     "name": "stderr",
     "output_type": "stream",
     "text": [
      "Warning message:\n",
      "\"package 'BSDA' was built under R version 3.6.3\"\n",
      "Loading required package: lattice\n",
      "\n",
      "\n",
      "Attaching package: 'BSDA'\n",
      "\n",
      "\n",
      "The following object is masked from 'package:datasets':\n",
      "\n",
      "    Orange\n",
      "\n",
      "\n"
     ]
    }
   ],
   "source": [
    "install.packages('BSDA')\n",
    "library(BSDA)"
   ]
  },
  {
   "cell_type": "code",
   "execution_count": 12,
   "metadata": {},
   "outputs": [
    {
     "data": {
      "text/plain": [
       "\n",
       "\tOne-sample z-Test\n",
       "\n",
       "data:  x1\n",
       "z = 1.0174, p-value = 0.309\n",
       "alternative hypothesis: true mean is not equal to 0\n",
       "88 percent confidence interval:\n",
       " -0.09811619  0.46960686\n",
       "sample estimates:\n",
       "mean of x \n",
       "0.1857453 \n"
      ]
     },
     "metadata": {},
     "output_type": "display_data"
    }
   ],
   "source": [
    "z.test(x=x1,sigma.x=1,conf.level=0.88)"
   ]
  },
  {
   "cell_type": "code",
   "execution_count": 13,
   "metadata": {},
   "outputs": [
    {
     "data": {
      "text/html": [
       "-0.0981161854214856"
      ],
      "text/latex": [
       "-0.0981161854214856"
      ],
      "text/markdown": [
       "-0.0981161854214856"
      ],
      "text/plain": [
       "[1] -0.09811619"
      ]
     },
     "metadata": {},
     "output_type": "display_data"
    },
    {
     "data": {
      "text/html": [
       "0.46960686096124"
      ],
      "text/latex": [
       "0.46960686096124"
      ],
      "text/markdown": [
       "0.46960686096124"
      ],
      "text/plain": [
       "[1] 0.4696069"
      ]
     },
     "metadata": {},
     "output_type": "display_data"
    }
   ],
   "source": [
    "LS_mu = mean(x1) + abs(qnorm((1-0.88)/2))*1/sqrt(n)\n",
    "LI_mu = mean(x1) - abs(qnorm((1-0.88)/2))*1/sqrt(n)\n",
    "LI_mu\n",
    "LS_mu"
   ]
  },
  {
   "cell_type": "markdown",
   "metadata": {},
   "source": [
    "Para el segundo caso usaremos la función `t.test`"
   ]
  },
  {
   "cell_type": "code",
   "execution_count": 14,
   "metadata": {},
   "outputs": [],
   "source": [
    "x2 = rnorm(30,1,2)\n",
    "n = length(x2)"
   ]
  },
  {
   "cell_type": "code",
   "execution_count": 15,
   "metadata": {},
   "outputs": [
    {
     "data": {
      "text/plain": [
       "\n",
       "\tOne Sample t-test\n",
       "\n",
       "data:  x2\n",
       "t = 1.0122, df = 29, p-value = 0.3198\n",
       "alternative hypothesis: true mean is not equal to 0\n",
       "88 percent confidence interval:\n",
       " -0.2441575  1.0822267\n",
       "sample estimates:\n",
       "mean of x \n",
       "0.4190346 \n"
      ]
     },
     "metadata": {},
     "output_type": "display_data"
    }
   ],
   "source": [
    "t.test(x=x2,conf.level=0.88)"
   ]
  },
  {
   "cell_type": "code",
   "execution_count": 16,
   "metadata": {},
   "outputs": [
    {
     "data": {
      "text/html": [
       "-0.244157500830708"
      ],
      "text/latex": [
       "-0.244157500830708"
      ],
      "text/markdown": [
       "-0.244157500830708"
      ],
      "text/plain": [
       "[1] -0.2441575"
      ]
     },
     "metadata": {},
     "output_type": "display_data"
    },
    {
     "data": {
      "text/html": [
       "1.08222666719318"
      ],
      "text/latex": [
       "1.08222666719318"
      ],
      "text/markdown": [
       "1.08222666719318"
      ],
      "text/plain": [
       "[1] 1.082227"
      ]
     },
     "metadata": {},
     "output_type": "display_data"
    }
   ],
   "source": [
    "LS_mu = mean(x2) + abs(qt((1-0.88)/2,n-1))*sd(x2)/sqrt(n)\n",
    "LI_mu = mean(x2) - abs(qt((1-0.88)/2,n-1))*sd(x2)/sqrt(n)\n",
    "LI_mu\n",
    "LS_mu"
   ]
  },
  {
   "cell_type": "markdown",
   "metadata": {},
   "source": [
    "Para el tercer caso usaremos la función `var.test`"
   ]
  },
  {
   "cell_type": "code",
   "execution_count": 78,
   "metadata": {},
   "outputs": [],
   "source": [
    "x3 = rnorm(30,22,3)"
   ]
  },
  {
   "cell_type": "code",
   "execution_count": 75,
   "metadata": {},
   "outputs": [
    {
     "name": "stderr",
     "output_type": "stream",
     "text": [
      "\n",
      "Attaching package: ‘stests’\n",
      "\n",
      "\n",
      "The following object is masked from ‘package:BSDA’:\n",
      "\n",
      "    z.test\n",
      "\n",
      "\n",
      "The following object is masked from ‘package:stats’:\n",
      "\n",
      "    var.test\n",
      "\n",
      "\n"
     ]
    },
    {
     "ename": "ERROR",
     "evalue": "Error in var.test(x3): object 'x3' not found\n",
     "output_type": "error",
     "traceback": [
      "Error in var.test(x3): object 'x3' not found\nTraceback:\n",
      "1. var.test(x3)"
     ]
    }
   ],
   "source": [
    "library(stests)\n",
    "var.test(x3)"
   ]
  },
  {
   "cell_type": "markdown",
   "metadata": {},
   "source": [
    "## Intervalos de confianza para una proporción\n",
    "Suponga que en una población se tienen 2 posibles elecciones, `x1` y `x2`. A ti te gustaría estudiar que proporción de la población prefiere `x1` en lugar de `x2`. Como tu no puedes preguntarle a toda la población su preferencia para sacar un porcentaje (en general la población se considera infinita), entonces tu decides seleccionar al azar una muestra aleatoria de tamaño $n$ y le preguntas su preferencia. Entonces para estimar la proporción mediante utilizaremos el estadístico:\n",
    "$$\n",
    "\\hat{p} = \\dfrac{\\text{Cantidad de personas que prefieren x1}}{\\text{Cantidad de personas de la muestra}}\n",
    "$$\n",
    "Luego me gustaría armar un IC para la proporción, para ello utilizaremos el siguiente resultado:\n",
    "\n",
    "**Intervalo de confianza para $\\hat{p}$** El intervalo de confianza para $\\hat{p}$ viene dado por:\n",
    "$$\n",
    "\\hat{p} \\pm \\left|Z\\left( \\dfrac{1-\\gamma}{2}\\right)\\right| \\sqrt{\n",
    "\\dfrac{ \\hat{p}(1-\\hat{p})}{n}\n",
    "}\n",
    "$$"
   ]
  },
  {
   "cell_type": "markdown",
   "metadata": {},
   "source": [
    "Tomemos el siguiente ejemplo:"
   ]
  },
  {
   "cell_type": "code",
   "execution_count": 18,
   "metadata": {},
   "outputs": [
    {
     "data": {
      "text/html": [
       "<ol class=list-inline>\n",
       "\t<li>0</li>\n",
       "\t<li>0</li>\n",
       "\t<li>0</li>\n",
       "\t<li>0</li>\n",
       "\t<li>0</li>\n",
       "\t<li>1</li>\n",
       "\t<li>1</li>\n",
       "\t<li>1</li>\n",
       "\t<li>1</li>\n",
       "\t<li>0</li>\n",
       "\t<li>1</li>\n",
       "\t<li>0</li>\n",
       "\t<li>0</li>\n",
       "\t<li>0</li>\n",
       "\t<li>1</li>\n",
       "\t<li>1</li>\n",
       "\t<li>0</li>\n",
       "\t<li>0</li>\n",
       "\t<li>0</li>\n",
       "\t<li>0</li>\n",
       "\t<li>0</li>\n",
       "\t<li>0</li>\n",
       "\t<li>1</li>\n",
       "\t<li>0</li>\n",
       "\t<li>1</li>\n",
       "\t<li>0</li>\n",
       "\t<li>0</li>\n",
       "\t<li>1</li>\n",
       "\t<li>0</li>\n",
       "\t<li>1</li>\n",
       "</ol>\n"
      ],
      "text/latex": [
       "\\begin{enumerate*}\n",
       "\\item 0\n",
       "\\item 0\n",
       "\\item 0\n",
       "\\item 0\n",
       "\\item 0\n",
       "\\item 1\n",
       "\\item 1\n",
       "\\item 1\n",
       "\\item 1\n",
       "\\item 0\n",
       "\\item 1\n",
       "\\item 0\n",
       "\\item 0\n",
       "\\item 0\n",
       "\\item 1\n",
       "\\item 1\n",
       "\\item 0\n",
       "\\item 0\n",
       "\\item 0\n",
       "\\item 0\n",
       "\\item 0\n",
       "\\item 0\n",
       "\\item 1\n",
       "\\item 0\n",
       "\\item 1\n",
       "\\item 0\n",
       "\\item 0\n",
       "\\item 1\n",
       "\\item 0\n",
       "\\item 1\n",
       "\\end{enumerate*}\n"
      ],
      "text/markdown": [
       "1. 0\n",
       "2. 0\n",
       "3. 0\n",
       "4. 0\n",
       "5. 0\n",
       "6. 1\n",
       "7. 1\n",
       "8. 1\n",
       "9. 1\n",
       "10. 0\n",
       "11. 1\n",
       "12. 0\n",
       "13. 0\n",
       "14. 0\n",
       "15. 1\n",
       "16. 1\n",
       "17. 0\n",
       "18. 0\n",
       "19. 0\n",
       "20. 0\n",
       "21. 0\n",
       "22. 0\n",
       "23. 1\n",
       "24. 0\n",
       "25. 1\n",
       "26. 0\n",
       "27. 0\n",
       "28. 1\n",
       "29. 0\n",
       "30. 1\n",
       "\n",
       "\n"
      ],
      "text/plain": [
       " [1] 0 0 0 0 0 1 1 1 1 0 1 0 0 0 1 1 0 0 0 0 0 0 1 0 1 0 0 1 0 1"
      ]
     },
     "metadata": {},
     "output_type": "display_data"
    }
   ],
   "source": [
    "library(Rlab)\n",
    "x4=rbern(30,0.3)\n",
    "x4"
   ]
  },
  {
   "cell_type": "code",
   "execution_count": 20,
   "metadata": {},
   "outputs": [
    {
     "data": {
      "text/html": [
       "11"
      ],
      "text/latex": [
       "11"
      ],
      "text/markdown": [
       "11"
      ],
      "text/plain": [
       "[1] 11"
      ]
     },
     "metadata": {},
     "output_type": "display_data"
    }
   ],
   "source": [
    "casos_fav=length(subset(x4,x4==1))\n",
    "n = length(x4)\n",
    "casos_fav"
   ]
  },
  {
   "cell_type": "code",
   "execution_count": 21,
   "metadata": {},
   "outputs": [
    {
     "data": {
      "text/html": [
       "0.366666666666667"
      ],
      "text/latex": [
       "0.366666666666667"
      ],
      "text/markdown": [
       "0.366666666666667"
      ],
      "text/plain": [
       "[1] 0.3666667"
      ]
     },
     "metadata": {},
     "output_type": "display_data"
    }
   ],
   "source": [
    "p = casos_fav/n\n",
    "p"
   ]
  },
  {
   "cell_type": "code",
   "execution_count": 22,
   "metadata": {},
   "outputs": [
    {
     "data": {
      "text/html": [
       "0.194226135476274"
      ],
      "text/latex": [
       "0.194226135476274"
      ],
      "text/markdown": [
       "0.194226135476274"
      ],
      "text/plain": [
       "[1] 0.1942261"
      ]
     },
     "metadata": {},
     "output_type": "display_data"
    },
    {
     "data": {
      "text/html": [
       "0.53910719785706"
      ],
      "text/latex": [
       "0.53910719785706"
      ],
      "text/markdown": [
       "0.53910719785706"
      ],
      "text/plain": [
       "[1] 0.5391072"
      ]
     },
     "metadata": {},
     "output_type": "display_data"
    }
   ],
   "source": [
    "LI = p - abs(qnorm((1-0.95)/2))*sqrt(p*(1-p)/n)\n",
    "LS = p + abs(qnorm((1-0.95)/2))*sqrt(p*(1-p)/n)\n",
    "LI\n",
    "LS"
   ]
  },
  {
   "cell_type": "code",
   "execution_count": 23,
   "metadata": {},
   "outputs": [
    {
     "data": {
      "text/plain": [
       "\n",
       "\tExact binomial test\n",
       "\n",
       "data:  casos_fav and n\n",
       "number of successes = 11, number of trials = 30, p-value = 1\n",
       "alternative hypothesis: true probability of success is not equal to 0.3666667\n",
       "95 percent confidence interval:\n",
       " 0.1992986 0.5614402\n",
       "sample estimates:\n",
       "probability of success \n",
       "             0.3666667 \n"
      ]
     },
     "metadata": {},
     "output_type": "display_data"
    }
   ],
   "source": [
    "binom.test(casos_fav,n,p)"
   ]
  },
  {
   "cell_type": "markdown",
   "metadata": {},
   "source": [
    "## Pruebas de hipotesis"
   ]
  },
  {
   "cell_type": "markdown",
   "metadata": {},
   "source": [
    "**Definición:** Se define la significancia como 1 - confianza. Entonces:\n",
    "$$\n",
    "\\alpha = 1-\\gamma\n",
    "$$\n",
    "con $\\alpha$ la significancia y $\\gamma$ la confianza."
   ]
  },
  {
   "cell_type": "markdown",
   "metadata": {},
   "source": [
    "### Construcción de un test de hipótesis.\n",
    "\n",
    "Supongamos tenemos una V.A. $X$ que sigue una distribución normal de parámetros $\\mu$ y $\\sigma^2$.\n",
    "\n",
    "En primer lugar supongamos que $\\sigma^2$ es conocido. Supongamos que una persona afirma rotundamente que $\\mu = \\mu_0$ con una confianza $\\gamma$ mientras que otra persona afirma que $\\mu > \\mu_0$. Para tomar una decisión con respecto a esta problematica se decide realizar un test de hipótesis:\n",
    "\\begin{align*}\n",
    "H_0: &\\mu = \\mu_0\\\\\n",
    "&v/s\\\\\n",
    "H_1: &\\mu > \\mu_0\n",
    "\\end{align*}\n",
    "\n",
    "Para tomar una decisión debemos hacer lo siguiente, calcularemos un $z$ de prueba que llamaremos $z^\\ast$, este viene dado por:\n",
    "$$\n",
    "z^\\ast = \\dfrac{\\bar{x} - \\mu_0}{\\frac{\\sigma}{\\sqrt{n}}}\n",
    "$$"
   ]
  },
  {
   "cell_type": "markdown",
   "metadata": {},
   "source": [
    "Si $z^\\ast$ > $Z\\left(1 - \\alpha \\right)$ entonces rechazo $H_0$, en caso contrario no rechazo $H_0$. **Nunca apruebo $H_0,H_1$**"
   ]
  },
  {
   "cell_type": "markdown",
   "metadata": {},
   "source": [
    "**Definición** Llamaremos valor p a la probabilidad de obtener un resultado extremo dado que $H_0$ es verdadero. La interpretación de este valor es que el valor p es la significancia mínima para rechazar $H_0$."
   ]
  },
  {
   "cell_type": "markdown",
   "metadata": {},
   "source": [
    "Se suele decir que valores altos de p no permiten rechazar la $H_0$, mientras que valores bajos de p si permiten rechazar la $H_0$. "
   ]
  },
  {
   "cell_type": "markdown",
   "metadata": {},
   "source": [
    "Para el test anterior (llamado test de media con cola derecha y varianza conocida), para obtener el valor p debemos utilizar el siguiente resultado:"
   ]
  },
  {
   "cell_type": "markdown",
   "metadata": {},
   "source": [
    "$$\n",
    "Valor.p = P( Z > z^\\ast)\n",
    "$$"
   ]
  },
  {
   "cell_type": "markdown",
   "metadata": {},
   "source": [
    "**Ejemplo**"
   ]
  },
  {
   "cell_type": "code",
   "execution_count": 2,
   "metadata": {},
   "outputs": [],
   "source": [
    "x5 = rnorm(100,10,2)"
   ]
  },
  {
   "cell_type": "code",
   "execution_count": 3,
   "metadata": {},
   "outputs": [
    {
     "data": {
      "text/html": [
       "1.83224817037019"
      ],
      "text/latex": [
       "1.83224817037019"
      ],
      "text/markdown": [
       "1.83224817037019"
      ],
      "text/plain": [
       "[1] 1.832248"
      ]
     },
     "metadata": {},
     "output_type": "display_data"
    },
    {
     "data": {
      "text/html": [
       "9.93484168583295"
      ],
      "text/latex": [
       "9.93484168583295"
      ],
      "text/markdown": [
       "9.93484168583295"
      ],
      "text/plain": [
       "[1] 9.934842"
      ]
     },
     "metadata": {},
     "output_type": "display_data"
    }
   ],
   "source": [
    "sd(x5)\n",
    "mean(x5)"
   ]
  },
  {
   "cell_type": "code",
   "execution_count": 4,
   "metadata": {},
   "outputs": [
    {
     "data": {
      "text/html": [
       "4.67420842916475"
      ],
      "text/latex": [
       "4.67420842916475"
      ],
      "text/markdown": [
       "4.67420842916475"
      ],
      "text/plain": [
       "[1] 4.674208"
      ]
     },
     "metadata": {},
     "output_type": "display_data"
    }
   ],
   "source": [
    "# H_0: mu = 9\n",
    "# H_1: mu > 9\n",
    "# significancia 0.05\n",
    "alpha = 0.05\n",
    "z.ast = (mean(x5)-9)/(2/sqrt(length(x5)))\n",
    "z.ast"
   ]
  },
  {
   "cell_type": "code",
   "execution_count": 5,
   "metadata": {},
   "outputs": [
    {
     "data": {
      "text/html": [
       "1.64485362695147"
      ],
      "text/latex": [
       "1.64485362695147"
      ],
      "text/markdown": [
       "1.64485362695147"
      ],
      "text/plain": [
       "[1] 1.644854"
      ]
     },
     "metadata": {},
     "output_type": "display_data"
    }
   ],
   "source": [
    "Z = qnorm(1-alpha)\n",
    "Z"
   ]
  },
  {
   "cell_type": "code",
   "execution_count": 32,
   "metadata": {},
   "outputs": [
    {
     "data": {
      "text/html": [
       "TRUE"
      ],
      "text/latex": [
       "TRUE"
      ],
      "text/markdown": [
       "TRUE"
      ],
      "text/plain": [
       "[1] TRUE"
      ]
     },
     "metadata": {},
     "output_type": "display_data"
    }
   ],
   "source": [
    "z.ast > Z"
   ]
  },
  {
   "cell_type": "code",
   "execution_count": 8,
   "metadata": {},
   "outputs": [
    {
     "data": {
      "text/plain": [
       "\n",
       "\tOne-sample z-Test\n",
       "\n",
       "data:  x5\n",
       "z = 49.674, p-value < 2.2e-16\n",
       "alternative hypothesis: true mean is greater than 0\n",
       "95 percent confidence interval:\n",
       " 9.605871       NA\n",
       "sample estimates:\n",
       "mean of x \n",
       " 9.934842 \n"
      ]
     },
     "metadata": {},
     "output_type": "display_data"
    }
   ],
   "source": [
    "z.test(x = x5,alternative = 'greater',sigma.x = 2,conf.level = 0.95)"
   ]
  },
  {
   "cell_type": "markdown",
   "metadata": {},
   "source": [
    "Por tanto rechazo $H_0$. Por tanto deberia pensar que $\\mu>9$."
   ]
  },
  {
   "cell_type": "code",
   "execution_count": 9,
   "metadata": {},
   "outputs": [
    {
     "data": {
      "text/html": [
       "-0.32579157083525"
      ],
      "text/latex": [
       "-0.32579157083525"
      ],
      "text/markdown": [
       "-0.32579157083525"
      ],
      "text/plain": [
       "[1] -0.3257916"
      ]
     },
     "metadata": {},
     "output_type": "display_data"
    }
   ],
   "source": [
    "# H_0: mu = 10\n",
    "# H_1: mu > 10\n",
    "# significancia 0.05\n",
    "alpha = 0.05\n",
    "z.ast = (mean(x5)-10)/(2/sqrt(length(x5)))\n",
    "z.ast"
   ]
  },
  {
   "cell_type": "code",
   "execution_count": 10,
   "metadata": {},
   "outputs": [
    {
     "data": {
      "text/html": [
       "FALSE"
      ],
      "text/latex": [
       "FALSE"
      ],
      "text/markdown": [
       "FALSE"
      ],
      "text/plain": [
       "[1] FALSE"
      ]
     },
     "metadata": {},
     "output_type": "display_data"
    }
   ],
   "source": [
    "z.ast > Z"
   ]
  },
  {
   "cell_type": "markdown",
   "metadata": {},
   "source": [
    "Por tanto no rechazo $H_0$ y podria pensar que $\\mu = 10$."
   ]
  },
  {
   "cell_type": "markdown",
   "metadata": {},
   "source": [
    "Además el valor p para este test viene dado por:"
   ]
  },
  {
   "cell_type": "code",
   "execution_count": 35,
   "metadata": {},
   "outputs": [
    {
     "data": {
      "text/html": [
       "0.520340050276763"
      ],
      "text/latex": [
       "0.520340050276763"
      ],
      "text/markdown": [
       "0.520340050276763"
      ],
      "text/plain": [
       "[1] 0.5203401"
      ]
     },
     "metadata": {},
     "output_type": "display_data"
    }
   ],
   "source": [
    "1-pnorm(z.ast)"
   ]
  },
  {
   "cell_type": "markdown",
   "metadata": {},
   "source": [
    "Mediante una función del R que es la función z.test también puedes realizar este test."
   ]
  },
  {
   "cell_type": "code",
   "execution_count": 11,
   "metadata": {},
   "outputs": [
    {
     "data": {
      "text/plain": [
       "\n",
       "\tOne-sample z-Test\n",
       "\n",
       "data:  x5\n",
       "z = -0.32579, p-value = 0.6277\n",
       "alternative hypothesis: true mean is greater than 10\n",
       "95 percent confidence interval:\n",
       " 9.605871       NA\n",
       "sample estimates:\n",
       "mean of x \n",
       " 9.934842 \n"
      ]
     },
     "metadata": {},
     "output_type": "display_data"
    }
   ],
   "source": [
    "z.test(x5,alternative='greater',mu=10,sigma.x=2,conf.level=0.95)"
   ]
  },
  {
   "cell_type": "markdown",
   "metadata": {},
   "source": [
    "**Nota: El que utilice esta función en el control en caso de tener error no tendra derecho a apelar.**"
   ]
  },
  {
   "cell_type": "markdown",
   "metadata": {},
   "source": [
    "Supongamos ahora que el amigo dijo otra alternativa que $\\mu < \\mu_0$ entonces el test toma la siguiente forma:\n",
    "\\begin{align*}\n",
    "H_0: &\\mu = \\mu_0\\\\\n",
    "&v/s\\\\\n",
    "H_1: &\\mu < \\mu_0\n",
    "\\end{align*}\n",
    "Para tomar una decisión utilizaremos el siguiente criterio:\n",
    "\n",
    "Si $z^\\ast$ < $Z\\left(\\alpha\\right)$ entonces rechazo $H_0$, en caso contrario no rechazo $H_0$. **Nunca apruebo $H_1$**"
   ]
  },
  {
   "cell_type": "code",
   "execution_count": 40,
   "metadata": {},
   "outputs": [
    {
     "data": {
      "text/plain": [
       "\n",
       "\tOne-sample z-Test\n",
       "\n",
       "data:  x5\n",
       "z = 4.949, p-value = 1\n",
       "alternative hypothesis: true mean is less than 9\n",
       "95 percent confidence interval:\n",
       "       NA 10.31877\n",
       "sample estimates:\n",
       "mean of x \n",
       " 9.989799 \n"
      ]
     },
     "metadata": {},
     "output_type": "display_data"
    }
   ],
   "source": [
    "# Para mu_0 = 12 y alpha= 0.05\n",
    "z.test(x5,alternative='less',mu=9,sigma.x=2,conf.level=0.95)"
   ]
  },
  {
   "cell_type": "markdown",
   "metadata": {},
   "source": [
    "Supongamos ahora que el amigo dijo otra alternativa que $\\mu < \\mu_0$ entonces el test toma la siguiente forma:\n",
    "\\begin{align*}\n",
    "H_0: &\\mu = \\mu_0\\\\\n",
    "&v/s\\\\\n",
    "H_1: &\\mu \\neq \\mu_0\n",
    "\\end{align*}\n",
    "Para tomar una decisión utilizaremos el siguiente criterio:\n",
    "\n",
    "Si $z^\\ast > Z\\left(1 - \\dfrac{\\alpha}{2}\\right)$ o bien $z^\\ast < Z\\left( \\dfrac{\\alpha}{2} \\right)$ entonces rechazo $H_0$, en caso contrario no rechazo $H_0$. **Nunca apruebo $H_0,H_1$**"
   ]
  },
  {
   "cell_type": "code",
   "execution_count": 42,
   "metadata": {},
   "outputs": [
    {
     "data": {
      "text/plain": [
       "\n",
       "\tOne-sample z-Test\n",
       "\n",
       "data:  x5\n",
       "z = -0.051007, p-value = 0.9593\n",
       "alternative hypothesis: true mean is not equal to 10\n",
       "95 percent confidence interval:\n",
       "  9.597806 10.381791\n",
       "sample estimates:\n",
       "mean of x \n",
       " 9.989799 \n"
      ]
     },
     "metadata": {},
     "output_type": "display_data"
    }
   ],
   "source": [
    "# Para mu_0 = 10 y alpha= 0.05\n",
    "z.test(x5,alternative='two.sided',mu=10,sigma.x=2,conf.level=0.95)"
   ]
  },
  {
   "cell_type": "markdown",
   "metadata": {},
   "source": [
    "Supongamos ahora que la varianza no es conocida. Para estos casos debemos recordar que se puede armar una distribución $t$. Entonces en caso de hacer las mismas pruebas de hipótesis que mencionamos antes tendremos que usar la función `t.test`.\n",
    "\n",
    "$t^\\ast = \\dfrac{\\bar{x} - \\mu_0}{\\frac{S}{\\sqrt{n}}} $"
   ]
  },
  {
   "cell_type": "code",
   "execution_count": 43,
   "metadata": {},
   "outputs": [
    {
     "data": {
      "text/plain": [
       "\n",
       "\tOne Sample t-test\n",
       "\n",
       "data:  x5\n",
       "t = -0.048926, df = 99, p-value = 0.9611\n",
       "alternative hypothesis: true mean is not equal to 10\n",
       "95 percent confidence interval:\n",
       "  9.576079 10.403518\n",
       "sample estimates:\n",
       "mean of x \n",
       " 9.989799 \n"
      ]
     },
     "metadata": {},
     "output_type": "display_data"
    }
   ],
   "source": [
    "t.test(x=x5,alternative='two.sided',mu=10,conf.level=0.95)"
   ]
  },
  {
   "cell_type": "code",
   "execution_count": 44,
   "metadata": {},
   "outputs": [
    {
     "data": {
      "text/plain": [
       "\n",
       "\tOne Sample t-test\n",
       "\n",
       "data:  x5\n",
       "t = -4.845, df = 99, p-value = 2.344e-06\n",
       "alternative hypothesis: true mean is less than 11\n",
       "95 percent confidence interval:\n",
       "   -Inf 10.336\n",
       "sample estimates:\n",
       "mean of x \n",
       " 9.989799 \n"
      ]
     },
     "metadata": {},
     "output_type": "display_data"
    }
   ],
   "source": [
    "t.test(x=x5,alternative='less',mu=11,conf.level=0.95)"
   ]
  },
  {
   "cell_type": "code",
   "execution_count": 45,
   "metadata": {},
   "outputs": [
    {
     "data": {
      "text/plain": [
       "\n",
       "\tOne Sample t-test\n",
       "\n",
       "data:  x5\n",
       "t = -9.641, df = 99, p-value = 1\n",
       "alternative hypothesis: true mean is greater than 12\n",
       "95 percent confidence interval:\n",
       " 9.643599      Inf\n",
       "sample estimates:\n",
       "mean of x \n",
       " 9.989799 \n"
      ]
     },
     "metadata": {},
     "output_type": "display_data"
    }
   ],
   "source": [
    "t.test(x=x5,alternative='greater',mu=12,conf.level=0.95)"
   ]
  },
  {
   "cell_type": "markdown",
   "metadata": {},
   "source": [
    "Análisis de una base de datos."
   ]
  },
  {
   "cell_type": "code",
   "execution_count": 47,
   "metadata": {},
   "outputs": [],
   "source": [
    "data = read.csv('pokemon.csv')"
   ]
  },
  {
   "cell_type": "code",
   "execution_count": 49,
   "metadata": {},
   "outputs": [],
   "source": [
    "X=data$Attack"
   ]
  },
  {
   "cell_type": "code",
   "execution_count": 51,
   "metadata": {},
   "outputs": [
    {
     "data": {
      "text/plain": [
       "   Min. 1st Qu.  Median    Mean 3rd Qu.    Max. \n",
       "      5      55      75      79     100     190 "
      ]
     },
     "metadata": {},
     "output_type": "display_data"
    },
    {
     "data": {
      "text/html": [
       "3.16116779962934"
      ],
      "text/latex": [
       "3.16116779962934"
      ],
      "text/markdown": [
       "3.16116779962934"
      ],
      "text/plain": [
       "[1] 3.161168"
      ]
     },
     "metadata": {},
     "output_type": "display_data"
    },
    {
     "data": {
      "text/html": [
       "0.550578933092302"
      ],
      "text/latex": [
       "0.550578933092302"
      ],
      "text/markdown": [
       "0.550578933092302"
      ],
      "text/plain": [
       "[1] 0.5505789"
      ]
     },
     "metadata": {},
     "output_type": "display_data"
    }
   ],
   "source": [
    "summary(X)\n",
    "library('moments')\n",
    "kurtosis(X)\n",
    "skewness(X)"
   ]
  },
  {
   "cell_type": "code",
   "execution_count": 65,
   "metadata": {},
   "outputs": [
    {
     "data": {
      "text/plain": [
       "\n",
       "\tOne Sample t-test\n",
       "\n",
       "data:  X\n",
       "t = 1.0555, df = 799, p-value = 0.2915\n",
       "alternative hypothesis: true mean is not equal to 77.79\n",
       "95 percent confidence interval:\n",
       " 76.7487 81.2538\n",
       "sample estimates:\n",
       "mean of x \n",
       " 79.00125 \n"
      ]
     },
     "metadata": {},
     "output_type": "display_data"
    }
   ],
   "source": [
    "t.test(x=X,alternative='two.sided',mu=mean(sample(X,100)),conf.level=0.95)"
   ]
  },
  {
   "cell_type": "code",
   "execution_count": 86,
   "metadata": {},
   "outputs": [
    {
     "data": {
      "text/plain": [
       "\n",
       "\tX-squared test for variance\n",
       "\n",
       "data:  X\n",
       "X-squared = 1166.1, df = 799, p-value = 1\n",
       "alternative hypothesis: true variance is less than 721.8563\n",
       "95 percent confidence interval:\n",
       " 972.1214      Inf\n",
       "sample estimates:\n",
       "variance of x \n",
       "     1053.481 \n"
      ]
     },
     "metadata": {},
     "output_type": "display_data"
    }
   ],
   "source": [
    "var.test(x=X,alternative='less',null.value=var(sample(100,X)),conf.level=0.95)"
   ]
  },
  {
   "cell_type": "markdown",
   "metadata": {},
   "source": [
    "$P[\\times>840]=0,45$"
   ]
  },
  {
   "cell_type": "code",
   "execution_count": 103,
   "metadata": {},
   "outputs": [
    {
     "data": {
      "text/html": [
       "1493"
      ],
      "text/latex": [
       "1493"
      ],
      "text/markdown": [
       "1493"
      ],
      "text/plain": [
       "[1] 1493"
      ]
     },
     "metadata": {},
     "output_type": "display_data"
    }
   ],
   "source": [
    "qpois(1-0.45,1488.7)"
   ]
  },
  {
   "cell_type": "code",
   "execution_count": 94,
   "metadata": {},
   "outputs": [
    {
     "data": {
      "text/html": [
       "\n",
       "<table width=\"100%\" summary=\"page for Poisson {stats}\"><tr><td>Poisson {stats}</td><td style=\"text-align: right;\">R Documentation</td></tr></table>\n",
       "\n",
       "<h2>The Poisson Distribution</h2>\n",
       "\n",
       "<h3>Description</h3>\n",
       "\n",
       "<p>Density, distribution function, quantile function and random\n",
       "generation for the Poisson distribution with parameter <code>lambda</code>.\n",
       "</p>\n",
       "\n",
       "\n",
       "<h3>Usage</h3>\n",
       "\n",
       "<pre>\n",
       "dpois(x, lambda, log = FALSE)\n",
       "ppois(q, lambda, lower.tail = TRUE, log.p = FALSE)\n",
       "qpois(p, lambda, lower.tail = TRUE, log.p = FALSE)\n",
       "rpois(n, lambda)\n",
       "</pre>\n",
       "\n",
       "\n",
       "<h3>Arguments</h3>\n",
       "\n",
       "<table summary=\"R argblock\">\n",
       "<tr valign=\"top\"><td><code>x</code></td>\n",
       "<td>\n",
       "<p>vector of (non-negative integer) quantiles.</p>\n",
       "</td></tr>\n",
       "<tr valign=\"top\"><td><code>q</code></td>\n",
       "<td>\n",
       "<p>vector of quantiles.</p>\n",
       "</td></tr>\n",
       "<tr valign=\"top\"><td><code>p</code></td>\n",
       "<td>\n",
       "<p>vector of probabilities.</p>\n",
       "</td></tr>\n",
       "<tr valign=\"top\"><td><code>n</code></td>\n",
       "<td>\n",
       "<p>number of random values to return.</p>\n",
       "</td></tr>\n",
       "<tr valign=\"top\"><td><code>lambda</code></td>\n",
       "<td>\n",
       "<p>vector of (non-negative) means.</p>\n",
       "</td></tr>\n",
       "<tr valign=\"top\"><td><code>log, log.p</code></td>\n",
       "<td>\n",
       "<p>logical; if TRUE, probabilities p are given as log(p).</p>\n",
       "</td></tr>\n",
       "<tr valign=\"top\"><td><code>lower.tail</code></td>\n",
       "<td>\n",
       "<p>logical; if TRUE (default), probabilities are\n",
       "<i>P[X &le; x]</i>, otherwise, <i>P[X &gt; x]</i>.</p>\n",
       "</td></tr>\n",
       "</table>\n",
       "\n",
       "\n",
       "<h3>Details</h3>\n",
       "\n",
       "<p>The Poisson distribution has density\n",
       "\n",
       "</p>\n",
       "<p style=\"text-align: center;\"><i>p(x) = &lambda;^x exp(-&lambda;)/x!</i></p>\n",
       "\n",
       "<p>for <i>x = 0, 1, 2, &hellip;</i> .\n",
       "The mean and variance are <i>E(X) = Var(X) = &lambda;</i>.\n",
       "</p>\n",
       "<p>Note that <i>&lambda; = 0</i> is really a limit case (setting\n",
       "<i>0^0 = 1</i>) resulting in a point mass at <i>0</i>, see also the example.\n",
       "</p>\n",
       "<p>If an element of <code>x</code> is not integer, the result of <code>dpois</code>\n",
       "is zero, with a warning.\n",
       "<i>p(x)</i> is computed using Loader's algorithm, see the reference in\n",
       "<code>dbinom</code>.\n",
       "</p>\n",
       "<p>The quantile is right continuous: <code>qpois(p, lambda)</code> is the smallest\n",
       "integer <i>x</i> such that <i>P(X &le; x) &ge; p</i>.\n",
       "</p>\n",
       "<p>Setting <code>lower.tail = FALSE</code> allows to get much more precise\n",
       "results when the default, <code>lower.tail = TRUE</code> would return 1, see\n",
       "the example below.\n",
       "</p>\n",
       "\n",
       "\n",
       "<h3>Value</h3>\n",
       "\n",
       "<p><code>dpois</code> gives the (log) density,\n",
       "<code>ppois</code> gives the (log) distribution function,\n",
       "<code>qpois</code> gives the quantile function, and\n",
       "<code>rpois</code> generates random deviates.\n",
       "</p>\n",
       "<p>Invalid <code>lambda</code> will result in return value <code>NaN</code>, with a warning.\n",
       "</p>\n",
       "<p>The length of the result is determined by <code>n</code> for\n",
       "<code>rpois</code>, and is the maximum of the lengths of the\n",
       "numerical arguments for the other functions.\n",
       "</p>\n",
       "<p>The numerical arguments other than <code>n</code> are recycled to the\n",
       "length of the result.  Only the first elements of the logical\n",
       "arguments are used.\n",
       "</p>\n",
       "\n",
       "\n",
       "<h3>Source</h3>\n",
       "\n",
       "<p><code>dpois</code> uses C code contributed by Catherine Loader\n",
       "(see <code>dbinom</code>).\n",
       "</p>\n",
       "<p><code>ppois</code> uses <code>pgamma</code>.\n",
       "</p>\n",
       "<p><code>qpois</code> uses the Cornish&ndash;Fisher Expansion to include a skewness\n",
       "correction to a normal approximation, followed by a search.\n",
       "</p>\n",
       "<p><code>rpois</code> uses\n",
       "</p>\n",
       "<p>Ahrens, J. H. and Dieter, U. (1982).\n",
       "Computer generation of Poisson deviates from modified normal distributions.\n",
       "<em>ACM Transactions on Mathematical Software</em>, <b>8</b>, 163&ndash;179.\n",
       "</p>\n",
       "\n",
       "\n",
       "<h3>See Also</h3>\n",
       "\n",
       "<p>Distributions for other standard distributions, including\n",
       "<code>dbinom</code> for the binomial and <code>dnbinom</code> for\n",
       "the negative binomial distribution.\n",
       "</p>\n",
       "<p><code>poisson.test</code>.\n",
       "</p>\n",
       "\n",
       "\n",
       "<h3>Examples</h3>\n",
       "\n",
       "<pre>\n",
       "require(graphics)\n",
       "\n",
       "-log(dpois(0:7, lambda = 1) * gamma(1+ 0:7)) # == 1\n",
       "Ni &lt;- rpois(50, lambda = 4); table(factor(Ni, 0:max(Ni)))\n",
       "\n",
       "1 - ppois(10*(15:25), lambda = 100)  # becomes 0 (cancellation)\n",
       "    ppois(10*(15:25), lambda = 100, lower.tail = FALSE)  # no cancellation\n",
       "\n",
       "par(mfrow = c(2, 1))\n",
       "x &lt;- seq(-0.01, 5, 0.01)\n",
       "plot(x, ppois(x, 1), type = \"s\", ylab = \"F(x)\", main = \"Poisson(1) CDF\")\n",
       "plot(x, pbinom(x, 100, 0.01), type = \"s\", ylab = \"F(x)\",\n",
       "     main = \"Binomial(100, 0.01) CDF\")\n",
       "\n",
       "## The (limit) case  lambda = 0 :\n",
       "stopifnot(identical(dpois(0,0), 1),\n",
       "\t  identical(ppois(0,0), 1),\n",
       "\t  identical(qpois(1,0), 0))\n",
       "</pre>\n",
       "\n",
       "<hr /><div style=\"text-align: center;\">[Package <em>stats</em> version 3.6.2 ]</div>"
      ],
      "text/latex": [
       "\\inputencoding{utf8}\n",
       "\\HeaderA{Poisson}{The Poisson Distribution}{Poisson}\n",
       "\\aliasA{dpois}{Poisson}{dpois}\n",
       "\\aliasA{ppois}{Poisson}{ppois}\n",
       "\\aliasA{qpois}{Poisson}{qpois}\n",
       "\\aliasA{rpois}{Poisson}{rpois}\n",
       "\\keyword{distribution}{Poisson}\n",
       "%\n",
       "\\begin{Description}\\relax\n",
       "Density, distribution function, quantile function and random\n",
       "generation for the Poisson distribution with parameter \\code{lambda}.\n",
       "\\end{Description}\n",
       "%\n",
       "\\begin{Usage}\n",
       "\\begin{verbatim}\n",
       "dpois(x, lambda, log = FALSE)\n",
       "ppois(q, lambda, lower.tail = TRUE, log.p = FALSE)\n",
       "qpois(p, lambda, lower.tail = TRUE, log.p = FALSE)\n",
       "rpois(n, lambda)\n",
       "\\end{verbatim}\n",
       "\\end{Usage}\n",
       "%\n",
       "\\begin{Arguments}\n",
       "\\begin{ldescription}\n",
       "\\item[\\code{x}] vector of (non-negative integer) quantiles.\n",
       "\\item[\\code{q}] vector of quantiles.\n",
       "\\item[\\code{p}] vector of probabilities.\n",
       "\\item[\\code{n}] number of random values to return.\n",
       "\\item[\\code{lambda}] vector of (non-negative) means.\n",
       "\\item[\\code{log, log.p}] logical; if TRUE, probabilities p are given as log(p).\n",
       "\\item[\\code{lower.tail}] logical; if TRUE (default), probabilities are\n",
       "\\eqn{P[X \\le x]}{}, otherwise, \\eqn{P[X > x]}{}.\n",
       "\\end{ldescription}\n",
       "\\end{Arguments}\n",
       "%\n",
       "\\begin{Details}\\relax\n",
       "The Poisson distribution has density\n",
       "\n",
       "\\deqn{p(x) = \\frac{\\lambda^x e^{-\\lambda}}{x!}}{}\n",
       "for \\eqn{x = 0, 1, 2, \\ldots}{} .\n",
       "The mean and variance are \\eqn{E(X) = Var(X) = \\lambda}{}.\n",
       "\n",
       "Note that \\eqn{\\lambda = 0}{} is really a limit case (setting\n",
       "\\eqn{0^0 = 1}{}) resulting in a point mass at \\eqn{0}{}, see also the example.\n",
       "\n",
       "If an element of \\code{x} is not integer, the result of \\code{dpois}\n",
       "is zero, with a warning.\n",
       "\\eqn{p(x)}{} is computed using Loader's algorithm, see the reference in\n",
       "\\code{\\LinkA{dbinom}{dbinom}}.\n",
       "\n",
       "The quantile is right continuous: \\code{qpois(p, lambda)} is the smallest\n",
       "integer \\eqn{x}{} such that \\eqn{P(X \\le x) \\ge p}{}.\n",
       "\n",
       "Setting \\code{lower.tail = FALSE} allows to get much more precise\n",
       "results when the default, \\code{lower.tail = TRUE} would return 1, see\n",
       "the example below.\n",
       "\\end{Details}\n",
       "%\n",
       "\\begin{Value}\n",
       "\\code{dpois} gives the (log) density,\n",
       "\\code{ppois} gives the (log) distribution function,\n",
       "\\code{qpois} gives the quantile function, and\n",
       "\\code{rpois} generates random deviates.\n",
       "\n",
       "Invalid \\code{lambda} will result in return value \\code{NaN}, with a warning.\n",
       "\n",
       "The length of the result is determined by \\code{n} for\n",
       "\\code{rpois}, and is the maximum of the lengths of the\n",
       "numerical arguments for the other functions.\n",
       "\n",
       "The numerical arguments other than \\code{n} are recycled to the\n",
       "length of the result.  Only the first elements of the logical\n",
       "arguments are used.\n",
       "\\end{Value}\n",
       "%\n",
       "\\begin{Source}\\relax\n",
       "\\code{dpois} uses C code contributed by Catherine Loader\n",
       "(see \\code{\\LinkA{dbinom}{dbinom}}).\n",
       "\n",
       "\\code{ppois} uses \\code{pgamma}.\n",
       "\n",
       "\\code{qpois} uses the Cornish--Fisher Expansion to include a skewness\n",
       "correction to a normal approximation, followed by a search.\n",
       "\n",
       "\\code{rpois} uses\n",
       "\n",
       "Ahrens, J. H. and Dieter, U. (1982).\n",
       "Computer generation of Poisson deviates from modified normal distributions.\n",
       "\\emph{ACM Transactions on Mathematical Software}, \\bold{8}, 163--179.\n",
       "\\end{Source}\n",
       "%\n",
       "\\begin{SeeAlso}\\relax\n",
       "\\LinkA{Distributions}{Distributions} for other standard distributions, including\n",
       "\\code{\\LinkA{dbinom}{dbinom}} for the binomial and \\code{\\LinkA{dnbinom}{dnbinom}} for\n",
       "the negative binomial distribution.\n",
       "\n",
       "\\code{\\LinkA{poisson.test}{poisson.test}}.\n",
       "\\end{SeeAlso}\n",
       "%\n",
       "\\begin{Examples}\n",
       "\\begin{ExampleCode}\n",
       "require(graphics)\n",
       "\n",
       "-log(dpois(0:7, lambda = 1) * gamma(1+ 0:7)) # == 1\n",
       "Ni <- rpois(50, lambda = 4); table(factor(Ni, 0:max(Ni)))\n",
       "\n",
       "1 - ppois(10*(15:25), lambda = 100)  # becomes 0 (cancellation)\n",
       "    ppois(10*(15:25), lambda = 100, lower.tail = FALSE)  # no cancellation\n",
       "\n",
       "par(mfrow = c(2, 1))\n",
       "x <- seq(-0.01, 5, 0.01)\n",
       "plot(x, ppois(x, 1), type = \"s\", ylab = \"F(x)\", main = \"Poisson(1) CDF\")\n",
       "plot(x, pbinom(x, 100, 0.01), type = \"s\", ylab = \"F(x)\",\n",
       "     main = \"Binomial(100, 0.01) CDF\")\n",
       "\n",
       "## The (limit) case  lambda = 0 :\n",
       "stopifnot(identical(dpois(0,0), 1),\n",
       "\t  identical(ppois(0,0), 1),\n",
       "\t  identical(qpois(1,0), 0))\n",
       "\\end{ExampleCode}\n",
       "\\end{Examples}"
      ],
      "text/plain": [
       "Poisson                 package:stats                  R Documentation\n",
       "\n",
       "_\bT_\bh_\be _\bP_\bo_\bi_\bs_\bs_\bo_\bn _\bD_\bi_\bs_\bt_\br_\bi_\bb_\bu_\bt_\bi_\bo_\bn\n",
       "\n",
       "_\bD_\be_\bs_\bc_\br_\bi_\bp_\bt_\bi_\bo_\bn:\n",
       "\n",
       "     Density, distribution function, quantile function and random\n",
       "     generation for the Poisson distribution with parameter ‘lambda’.\n",
       "\n",
       "_\bU_\bs_\ba_\bg_\be:\n",
       "\n",
       "     dpois(x, lambda, log = FALSE)\n",
       "     ppois(q, lambda, lower.tail = TRUE, log.p = FALSE)\n",
       "     qpois(p, lambda, lower.tail = TRUE, log.p = FALSE)\n",
       "     rpois(n, lambda)\n",
       "     \n",
       "_\bA_\br_\bg_\bu_\bm_\be_\bn_\bt_\bs:\n",
       "\n",
       "       x: vector of (non-negative integer) quantiles.\n",
       "\n",
       "       q: vector of quantiles.\n",
       "\n",
       "       p: vector of probabilities.\n",
       "\n",
       "       n: number of random values to return.\n",
       "\n",
       "  lambda: vector of (non-negative) means.\n",
       "\n",
       "log, log.p: logical; if TRUE, probabilities p are given as log(p).\n",
       "\n",
       "lower.tail: logical; if TRUE (default), probabilities are P[X <= x],\n",
       "          otherwise, P[X > x].\n",
       "\n",
       "_\bD_\be_\bt_\ba_\bi_\bl_\bs:\n",
       "\n",
       "     The Poisson distribution has density\n",
       "\n",
       "                       p(x) = lambda^x exp(-lambda)/x!                  \n",
       "     \n",
       "     for x = 0, 1, 2, ... .  The mean and variance are E(X) = Var(X) =\n",
       "     lambda.\n",
       "\n",
       "     Note that lambda = 0 is really a limit case (setting 0^0 = 1)\n",
       "     resulting in a point mass at 0, see also the example.\n",
       "\n",
       "     If an element of ‘x’ is not integer, the result of ‘dpois’ is\n",
       "     zero, with a warning.  p(x) is computed using Loader's algorithm,\n",
       "     see the reference in ‘dbinom’.\n",
       "\n",
       "     The quantile is right continuous: ‘qpois(p, lambda)’ is the\n",
       "     smallest integer x such that P(X <= x) >= p.\n",
       "\n",
       "     Setting ‘lower.tail = FALSE’ allows to get much more precise\n",
       "     results when the default, ‘lower.tail = TRUE’ would return 1, see\n",
       "     the example below.\n",
       "\n",
       "_\bV_\ba_\bl_\bu_\be:\n",
       "\n",
       "     ‘dpois’ gives the (log) density, ‘ppois’ gives the (log)\n",
       "     distribution function, ‘qpois’ gives the quantile function, and\n",
       "     ‘rpois’ generates random deviates.\n",
       "\n",
       "     Invalid ‘lambda’ will result in return value ‘NaN’, with a\n",
       "     warning.\n",
       "\n",
       "     The length of the result is determined by ‘n’ for ‘rpois’, and is\n",
       "     the maximum of the lengths of the numerical arguments for the\n",
       "     other functions.\n",
       "\n",
       "     The numerical arguments other than ‘n’ are recycled to the length\n",
       "     of the result.  Only the first elements of the logical arguments\n",
       "     are used.\n",
       "\n",
       "_\bS_\bo_\bu_\br_\bc_\be:\n",
       "\n",
       "     ‘dpois’ uses C code contributed by Catherine Loader (see\n",
       "     ‘dbinom’).\n",
       "\n",
       "     ‘ppois’ uses ‘pgamma’.\n",
       "\n",
       "     ‘qpois’ uses the Cornish-Fisher Expansion to include a skewness\n",
       "     correction to a normal approximation, followed by a search.\n",
       "\n",
       "     ‘rpois’ uses\n",
       "\n",
       "     Ahrens, J. H. and Dieter, U. (1982).  Computer generation of\n",
       "     Poisson deviates from modified normal distributions.  _ACM\n",
       "     Transactions on Mathematical Software_, *8*, 163-179.\n",
       "\n",
       "_\bS_\be_\be _\bA_\bl_\bs_\bo:\n",
       "\n",
       "     Distributions for other standard distributions, including ‘dbinom’\n",
       "     for the binomial and ‘dnbinom’ for the negative binomial\n",
       "     distribution.\n",
       "\n",
       "     ‘poisson.test’.\n",
       "\n",
       "_\bE_\bx_\ba_\bm_\bp_\bl_\be_\bs:\n",
       "\n",
       "     require(graphics)\n",
       "     \n",
       "     -log(dpois(0:7, lambda = 1) * gamma(1+ 0:7)) # == 1\n",
       "     Ni <- rpois(50, lambda = 4); table(factor(Ni, 0:max(Ni)))\n",
       "     \n",
       "     1 - ppois(10*(15:25), lambda = 100)  # becomes 0 (cancellation)\n",
       "         ppois(10*(15:25), lambda = 100, lower.tail = FALSE)  # no cancellation\n",
       "     \n",
       "     par(mfrow = c(2, 1))\n",
       "     x <- seq(-0.01, 5, 0.01)\n",
       "     plot(x, ppois(x, 1), type = \"s\", ylab = \"F(x)\", main = \"Poisson(1) CDF\")\n",
       "     plot(x, pbinom(x, 100, 0.01), type = \"s\", ylab = \"F(x)\",\n",
       "          main = \"Binomial(100, 0.01) CDF\")\n",
       "     \n",
       "     ## The (limit) case  lambda = 0 :\n",
       "     stopifnot(identical(dpois(0,0), 1),\n",
       "               identical(ppois(0,0), 1),\n",
       "               identical(qpois(1,0), 0))\n",
       "     "
      ]
     },
     "metadata": {},
     "output_type": "display_data"
    }
   ],
   "source": [
    "?rpois"
   ]
  }
 ],
 "metadata": {
  "kernelspec": {
   "display_name": "R",
   "language": "R",
   "name": "ir"
  },
  "language_info": {
   "codemirror_mode": "r",
   "file_extension": ".r",
   "mimetype": "text/x-r-source",
   "name": "R",
   "pygments_lexer": "r",
   "version": "3.6.1"
  }
 },
 "nbformat": 4,
 "nbformat_minor": 4
}
