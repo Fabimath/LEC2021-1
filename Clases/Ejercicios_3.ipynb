{
 "cells": [
  {
   "cell_type": "markdown",
   "metadata": {},
   "source": [
    "# Ejercicios 3"
   ]
  },
  {
   "cell_type": "markdown",
   "metadata": {},
   "source": [
    "Considere la base de datos usada durante las clases anteriores `pokemon.csv`"
   ]
  },
  {
   "cell_type": "code",
   "execution_count": 1,
   "metadata": {},
   "outputs": [],
   "source": [
    "pagina = 'https://raw.githubusercontent.com/Fabimath/LEC-PYE/master/Clases/pokemon.csv'\n",
    "x <- url(pagina, \"r\")\n",
    "x <- readLines(x)\n",
    "data = read.csv(text = x)"
   ]
  },
  {
   "cell_type": "markdown",
   "metadata": {},
   "source": [
    "## Problema 1\n",
    "¿Cuantos Outliers o Datos Atipicos se encuentran en el vector de datos de `Speed`?"
   ]
  },
  {
   "cell_type": "code",
   "execution_count": 2,
   "metadata": {},
   "outputs": [
    {
     "data": {
      "text/html": [
       "<table>\n",
       "<caption>A data.frame: 2 × 12</caption>\n",
       "<thead>\n",
       "\t<tr><th></th><th scope=col>X.</th><th scope=col>Name</th><th scope=col>Type.1</th><th scope=col>Type.2</th><th scope=col>HP</th><th scope=col>Attack</th><th scope=col>Defense</th><th scope=col>Sp..Atk</th><th scope=col>Sp..Def</th><th scope=col>Speed</th><th scope=col>Generation</th><th scope=col>Legendary</th></tr>\n",
       "\t<tr><th></th><th scope=col>&lt;int&gt;</th><th scope=col>&lt;chr&gt;</th><th scope=col>&lt;chr&gt;</th><th scope=col>&lt;chr&gt;</th><th scope=col>&lt;int&gt;</th><th scope=col>&lt;int&gt;</th><th scope=col>&lt;int&gt;</th><th scope=col>&lt;int&gt;</th><th scope=col>&lt;int&gt;</th><th scope=col>&lt;int&gt;</th><th scope=col>&lt;int&gt;</th><th scope=col>&lt;chr&gt;</th></tr>\n",
       "</thead>\n",
       "<tbody>\n",
       "\t<tr><th scope=row>316</th><td>316</td><td>Ninjask           </td><td>Bug    </td><td>Flying</td><td>61</td><td>90</td><td>45</td><td>50</td><td>50</td><td>160</td><td>3</td><td>False</td></tr>\n",
       "\t<tr><th scope=row>432</th><td>432</td><td>Deoxys Speed Forme</td><td>Psychic</td><td>      </td><td>50</td><td>95</td><td>90</td><td>95</td><td>90</td><td>180</td><td>3</td><td>True </td></tr>\n",
       "</tbody>\n",
       "</table>\n"
      ],
      "text/latex": [
       "A data.frame: 2 × 12\n",
       "\\begin{tabular}{r|llllllllllll}\n",
       "  & X. & Name & Type.1 & Type.2 & HP & Attack & Defense & Sp..Atk & Sp..Def & Speed & Generation & Legendary\\\\\n",
       "  & <int> & <chr> & <chr> & <chr> & <int> & <int> & <int> & <int> & <int> & <int> & <int> & <chr>\\\\\n",
       "\\hline\n",
       "\t316 & 316 & Ninjask            & Bug     & Flying & 61 & 90 & 45 & 50 & 50 & 160 & 3 & False\\\\\n",
       "\t432 & 432 & Deoxys Speed Forme & Psychic &        & 50 & 95 & 90 & 95 & 90 & 180 & 3 & True \\\\\n",
       "\\end{tabular}\n"
      ],
      "text/markdown": [
       "\n",
       "A data.frame: 2 × 12\n",
       "\n",
       "| <!--/--> | X. &lt;int&gt; | Name &lt;chr&gt; | Type.1 &lt;chr&gt; | Type.2 &lt;chr&gt; | HP &lt;int&gt; | Attack &lt;int&gt; | Defense &lt;int&gt; | Sp..Atk &lt;int&gt; | Sp..Def &lt;int&gt; | Speed &lt;int&gt; | Generation &lt;int&gt; | Legendary &lt;chr&gt; |\n",
       "|---|---|---|---|---|---|---|---|---|---|---|---|---|\n",
       "| 316 | 316 | Ninjask            | Bug     | Flying | 61 | 90 | 45 | 50 | 50 | 160 | 3 | False |\n",
       "| 432 | 432 | Deoxys Speed Forme | Psychic | <!----> | 50 | 95 | 90 | 95 | 90 | 180 | 3 | True  |\n",
       "\n"
      ],
      "text/plain": [
       "    X.  Name               Type.1  Type.2 HP Attack Defense Sp..Atk Sp..Def\n",
       "316 316 Ninjask            Bug     Flying 61 90     45      50      50     \n",
       "432 432 Deoxys Speed Forme Psychic        50 95     90      95      90     \n",
       "    Speed Generation Legendary\n",
       "316 160   3          False    \n",
       "432 180   3          True     "
      ]
     },
     "metadata": {},
     "output_type": "display_data"
    }
   ],
   "source": [
    "ICR = quantile(data$Speed,0.75) - quantile(data$Speed,0.25)\n",
    "limsup=quantile(data$Speed,0.75) + 1.5*ICR\n",
    "liminf=quantile(data$Speed,0.25) - 1.5*ICR\n",
    "subset(data,Speed<liminf | Speed>limsup)"
   ]
  },
  {
   "cell_type": "code",
   "execution_count": 3,
   "metadata": {},
   "outputs": [],
   "source": [
    "# Respueta 2"
   ]
  },
  {
   "cell_type": "markdown",
   "metadata": {},
   "source": [
    "## Problema 2\n",
    "¿Cuantos Legendarios hay en la 5 y 6 generación (en suma)?"
   ]
  },
  {
   "cell_type": "code",
   "execution_count": 8,
   "metadata": {},
   "outputs": [
    {
     "data": {
      "text/plain": [
       "   \n",
       "    False True\n",
       "  1   160    6\n",
       "  2   101    5\n",
       "  3   142   18\n",
       "  4   108   13\n",
       "  5   150   15\n",
       "  6    74    8"
      ]
     },
     "metadata": {},
     "output_type": "display_data"
    }
   ],
   "source": [
    "table(data$Generation, data$Legendary)"
   ]
  },
  {
   "cell_type": "code",
   "execution_count": 9,
   "metadata": {},
   "outputs": [],
   "source": [
    "# Respuesta 15 + 8 = 23"
   ]
  },
  {
   "cell_type": "markdown",
   "metadata": {},
   "source": [
    "## Problema 3"
   ]
  },
  {
   "cell_type": "markdown",
   "metadata": {},
   "source": [
    "Considere el sub conjunto de datos dado por los datos cuya variable `Generation` sea igual a 3. Sea M igual al quintil Quintil 2 de la variable HP de la sub-base y sea N igual al Cuartil 3 de la variable Defense de la sub-base. Obtenga el promedio entre M y N ."
   ]
  },
  {
   "cell_type": "code",
   "execution_count": 10,
   "metadata": {},
   "outputs": [
    {
     "data": {
      "text/html": [
       "60"
      ],
      "text/latex": [
       "60"
      ],
      "text/markdown": [
       "60"
      ],
      "text/plain": [
       "[1] 60"
      ]
     },
     "metadata": {},
     "output_type": "display_data"
    }
   ],
   "source": [
    "d2 = subset(data,Generation==3)\n",
    "M = quantile(d2$HP,0.4)\n",
    "N = quantile(d2$Defense,0.75)\n",
    "mean(M,N)"
   ]
  }
 ],
 "metadata": {
  "kernelspec": {
   "display_name": "R",
   "language": "R",
   "name": "ir"
  },
  "language_info": {
   "codemirror_mode": "r",
   "file_extension": ".r",
   "mimetype": "text/x-r-source",
   "name": "R",
   "pygments_lexer": "r",
   "version": "4.0.2"
  }
 },
 "nbformat": 4,
 "nbformat_minor": 4
}
